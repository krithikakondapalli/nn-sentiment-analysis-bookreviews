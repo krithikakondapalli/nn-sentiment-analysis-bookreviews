{
 "cells": [
  {
   "cell_type": "markdown",
   "metadata": {},
   "source": [
    "# Lab 8: Define and Solve an ML Problem of Your Choosing"
   ]
  },
  {
   "cell_type": "code",
   "execution_count": 50,
   "metadata": {},
   "outputs": [],
   "source": [
    "import pandas as pd\n",
    "import numpy as np\n",
    "import nltk\n",
    "import os \n",
    "import time\n",
    "import gensim\n",
    "import random\n",
    "os.environ[\"TF_CPP_MIN_LOG_LEVEL\"] = \"2\" # suppress info and warning messages\n",
    "import matplotlib.pyplot as plt\n",
    "import seaborn as sns\n",
    "import tensorflow.keras as keras\n",
    "\n",
    "from sklearn.feature_extraction.text import TfidfVectorizer\n",
    "from sklearn.model_selection import train_test_split\n",
    "from tensorflow.keras.preprocessing.text import Tokenizer\n",
    "from tensorflow.keras.models import Sequential\n",
    "from tensorflow.keras.layers import Dropout, Dense\n",
    "from tensorflow.keras.optimizers import Adam"
   ]
  },
  {
   "cell_type": "markdown",
   "metadata": {},
   "source": [
    "# Sources Used:\n",
    "Lab Assignments throughout the module have been used as reference for visualization methods and more."
   ]
  },
  {
   "cell_type": "markdown",
   "metadata": {},
   "source": [
    "In this lab assignment, you will follow the machine learning life cycle and implement a model to solve a machine learning problem of your choosing. You will select a data set and choose a predictive problem that the data set supports.  You will then inspect the data with your problem in mind and begin to formulate a  project plan. You will then implement the machine learning project plan. \n",
    "\n",
    "You will complete the following tasks:\n",
    "\n",
    "1. Build Your DataFrame\n",
    "2. Define Your ML Problem\n",
    "3. Perform exploratory data analysis to understand your data.\n",
    "4. Define Your Project Plan\n",
    "5. Implement Your Project Plan:\n",
    "    * Prepare your data for your model.\n",
    "    * Fit your model to the training data and evaluate your model.\n",
    "    * Improve your model's performance."
   ]
  },
  {
   "cell_type": "markdown",
   "metadata": {},
   "source": [
    "## Part 1: Build Your DataFrame\n",
    "\n",
    "You will have the option to choose one of four data sets that you have worked with in this program:\n",
    "\n",
    "* The \"census\" data set that contains Census information from 1994: `censusData.csv`\n",
    "* Airbnb NYC \"listings\" data set: `airbnbListingsData.csv`\n",
    "* World Happiness Report (WHR) data set: `WHR2018Chapter2OnlineData.csv`\n",
    "* Book Review data set: `bookReviewsData.csv`\n",
    "\n",
    "Note that these are variations of the data sets that you have worked with in this program. For example, some do not include some of the preprocessing necessary for specific models. \n",
    "\n",
    "#### Load a Data Set and Save it as a Pandas DataFrame\n",
    "\n",
    "The code cell below contains filenames (path + filename) for each of the four data sets available to you.\n",
    "\n",
    "<b>Task:</b> In the code cell below, use the same method you have been using to load the data using `pd.read_csv()` and save it to DataFrame `df`. \n",
    "\n",
    "You can load each file as a new DataFrame to inspect the data before choosing your data set."
   ]
  },
  {
   "cell_type": "code",
   "execution_count": 2,
   "metadata": {},
   "outputs": [
    {
     "data": {
      "text/html": [
       "<div>\n",
       "<style scoped>\n",
       "    .dataframe tbody tr th:only-of-type {\n",
       "        vertical-align: middle;\n",
       "    }\n",
       "\n",
       "    .dataframe tbody tr th {\n",
       "        vertical-align: top;\n",
       "    }\n",
       "\n",
       "    .dataframe thead th {\n",
       "        text-align: right;\n",
       "    }\n",
       "</style>\n",
       "<table border=\"1\" class=\"dataframe\">\n",
       "  <thead>\n",
       "    <tr style=\"text-align: right;\">\n",
       "      <th></th>\n",
       "      <th>Review</th>\n",
       "      <th>Positive Review</th>\n",
       "    </tr>\n",
       "  </thead>\n",
       "  <tbody>\n",
       "    <tr>\n",
       "      <th>0</th>\n",
       "      <td>This was perhaps the best of Johannes Steinhof...</td>\n",
       "      <td>True</td>\n",
       "    </tr>\n",
       "    <tr>\n",
       "      <th>1</th>\n",
       "      <td>This very fascinating book is a story written ...</td>\n",
       "      <td>True</td>\n",
       "    </tr>\n",
       "    <tr>\n",
       "      <th>2</th>\n",
       "      <td>The four tales in this collection are beautifu...</td>\n",
       "      <td>True</td>\n",
       "    </tr>\n",
       "    <tr>\n",
       "      <th>3</th>\n",
       "      <td>The book contained more profanity than I expec...</td>\n",
       "      <td>False</td>\n",
       "    </tr>\n",
       "    <tr>\n",
       "      <th>4</th>\n",
       "      <td>We have now entered a second time of deep conc...</td>\n",
       "      <td>True</td>\n",
       "    </tr>\n",
       "  </tbody>\n",
       "</table>\n",
       "</div>"
      ],
      "text/plain": [
       "                                              Review  Positive Review\n",
       "0  This was perhaps the best of Johannes Steinhof...             True\n",
       "1  This very fascinating book is a story written ...             True\n",
       "2  The four tales in this collection are beautifu...             True\n",
       "3  The book contained more profanity than I expec...            False\n",
       "4  We have now entered a second time of deep conc...             True"
      ]
     },
     "execution_count": 2,
     "metadata": {},
     "output_type": "execute_result"
    }
   ],
   "source": [
    "# File names of the four data sets\n",
    "adultDataSet_filename = os.path.join(os.getcwd(), \"data\", \"censusData.csv\")\n",
    "airbnbDataSet_filename = os.path.join(os.getcwd(), \"data\", \"airbnbListingsData.csv\")\n",
    "WHRDataSet_filename = os.path.join(os.getcwd(), \"data\", \"WHR2018Chapter2OnlineData.csv\")\n",
    "bookReviewDataSet_filename = os.path.join(os.getcwd(), \"data\", \"bookReviewsData.csv\")\n",
    "\n",
    "\n",
    "df = pd.read_csv(bookReviewDataSet_filename)\n",
    "\n",
    "df.head()"
   ]
  },
  {
   "cell_type": "markdown",
   "metadata": {},
   "source": [
    "## Part 2: Define Your ML Problem\n",
    "\n",
    "Next you will formulate your ML Problem. In the markdown cell below, answer the following questions:\n",
    "\n",
    "1. List the data set you have chosen.\n",
    "2. What will you be predicting? What is the label?\n",
    "3. Is this a supervised or unsupervised learning problem? Is this a clustering, classification or regression problem? Is it a binary classificaiton or multi-class classifiction problem?\n",
    "4. What are your features? (note: this list may change after your explore your data)\n",
    "5. Explain why this is an important problem. In other words, how would a company create value with a model that predicts this label?"
   ]
  },
  {
   "cell_type": "markdown",
   "metadata": {},
   "source": [
    "1) The data set I have chosen is the book review data set. <br/>\n",
    "\n",
    "2) I will be predicting if a review is positive (true -> positive, false -> not positive or negative). The label is a boolean for the positive review. <br/>\n",
    "\n",
    "3) This is a supervised learning problem as we will use NLP and neural networks. It is a classification problem. It is binary classification. <br/>\n",
    "\n",
    "4) The primary feature of this problem is the review itself. After cleaning the data, my features may change depending upon the the words used, length of the review and more. <br/>\n",
    "\n",
    "5) This is an important problem as review sorting is an important task for any company. Identifying and classifying negative reviews ensures that a company can quickly address any issues and understand customer feedback. Working as a poll, it can help a business understand whether their product or service is doing well and help take any further next steps. Sentiment analysis is a key tool in other examples as well including recommendation systems (based on their reviews), polling insights, and automating customer engagement."
   ]
  },
  {
   "cell_type": "markdown",
   "metadata": {},
   "source": [
    "## Part 3: Understand Your Data\n",
    "\n",
    "The next step is to perform exploratory data analysis. Inspect and analyze your data set with your machine learning problem in mind. Consider the following as you inspect your data:\n",
    "\n",
    "1. What data preparation techniques would you like to use? These data preparation techniques may include:\n",
    "\n",
    "    * addressing missingness, such as replacing missing values with means\n",
    "    * finding and replacing outliers\n",
    "    * renaming features and labels\n",
    "    * finding and replacing outliers\n",
    "    * performing feature engineering techniques such as one-hot encoding on categorical features\n",
    "    * selecting appropriate features and removing irrelevant features\n",
    "    * performing specific data cleaning and preprocessing techniques for an NLP problem\n",
    "    * addressing class imbalance in your data sample to promote fair AI\n",
    "    \n",
    "\n",
    "2. What machine learning model (or models) you would like to use that is suitable for your predictive problem and data?\n",
    "    * Are there other data preparation techniques that you will need to apply to build a balanced modeling data set for your problem and model? For example, will you need to scale your data?\n",
    " \n",
    " \n",
    "3. How will you evaluate and improve the model's performance?\n",
    "    * Are there specific evaluation metrics and methods that are appropriate for your model?\n",
    "    \n",
    "\n",
    "Think of the different techniques you have used to inspect and analyze your data in this course. These include using Pandas to apply data filters, using the Pandas `describe()` method to get insight into key statistics for each column, using the Pandas `dtypes` property to inspect the data type of each column, and using Matplotlib and Seaborn to detect outliers and visualize relationships between features and labels. If you are working on a classification problem, use techniques you have learned to determine if there is class imbalance.\n",
    "\n",
    "<b>Task</b>: Use the techniques you have learned in this course to inspect and analyze your data. You can import additional packages that you have used in this course that you will need to perform this task.\n",
    "\n",
    "<b>Note</b>: You can add code cells if needed by going to the <b>Insert</b> menu and clicking on <b>Insert Cell Below</b> in the drop-drown menu."
   ]
  },
  {
   "cell_type": "code",
   "execution_count": 3,
   "metadata": {},
   "outputs": [
    {
     "name": "stdout",
     "output_type": "stream",
     "text": [
      "Shape: (1973, 2) \n",
      "\n",
      "Missing Values:\n",
      "Review             0\n",
      "Positive Review    0\n",
      "dtype: int64 \n",
      "\n",
      "Number of Positive and Negative Reviews:\n",
      "False    993\n",
      "True     980\n",
      "Name: Positive Review, dtype: int64 \n",
      "\n"
     ]
    }
   ],
   "source": [
    "# Inspect Data\n",
    "print(\"Shape:\", df.shape, \"\\n\")\n",
    "\n",
    "# Check for any missingness\n",
    "print(\"Missing Values:\")\n",
    "print(df.isnull().sum(), \"\\n\")\n",
    "\n",
    "# Check for how many positive reviews to negative reviews\n",
    "print(\"Number of Positive and Negative Reviews:\")\n",
    "print(df[\"Positive Review\"].value_counts(), \"\\n\")"
   ]
  },
  {
   "cell_type": "markdown",
   "metadata": {},
   "source": [
    "It appears that there are no missing values. The number of positive and negative reviews are also fairly balanced."
   ]
  },
  {
   "cell_type": "code",
   "execution_count": 4,
   "metadata": {},
   "outputs": [
    {
     "name": "stdout",
     "output_type": "stream",
     "text": [
      "Printing positive reviews:\n",
      "0\n",
      "This was perhaps the best of Johannes Steinhoff's books, since it does not  deal with his own stellar yet tragic WW II and post war career. The  insights of the average person living in Germany are of great importance to  both social and military historians alike. Steinhoff offered this  collective testament as a warning to all of us regarding war and the rise  of a dictator. As Johannes said in an interview, &quot;It is always the  civilians who suffer the most, yet are remembered the least.&quot\n",
      "\n",
      "1\n",
      "This very fascinating book is a story written in the form of numerous letters and personal diary entries made by the principle character of the book.  It chronicals the life of a young Scottish woman forced to live first in China then Japan.  Well written and historically accurate, it's obvious the author is intimately familiar with the the culture, customs, history and life style of Japan.  This makes the book that much more interesting and fascinating for those who enjoy realism and demand accuracy in a story.  For all who've ever lived in Japan, it's a believable tale that literally makes you feel you've stepped back in a time machine to witness the birth of modern Japan.  For those who haven't lived in Japan, believe that the author has done his homework and is not simply just creating a fictional setting in his mind.  Because of this, he's able to focus on his character versus scene/setting development and thus creates a living breathing person in your mind.  The timespan covers over 40 years as the story weaves through her trials and tribulations, and shows how her fortitude and strength serve her through tumultuous events in her life.  A gripping tale that draws on your emotions and has you constantly rooting for her.  When the last page is read it leaves you wishing the story would continue, but even good books must end.  Be prepared to sit a spell.  Once you start reading you'll find it hard to put down\n",
      "\n",
      "2\n",
      "The four tales in this collection are beautifully composed; they are art, not just stories.  Each story is deep in its unique complexities.  Each one has plots and subplots and paints an impeccable image of the story upon the reader's mind.  And when I look back upon the book as a whole, upon the adventurous stories, the excitement and emotion that the author presents so exquisitely, I can't help but be extremely impressed.\n",
      "\n",
      "3\n",
      "We have now entered a second time of deep concern for the science, math, and technological education for everyone. The first one occurred after the Sputnik fiasco, when the Russians beat us in the race to reach space. The  concern now has risen due to what science groups such as the American  Association for the Advancement of Science, and educators saw in comparison  of assessments made of students in the U.S. and those in other developed  countries, such as Japan. The answer to this concern was for the AAAS along  with other groups to put out a guideline as to what constitutes scientific  literacy, and what the public in the U.S. should at least know to be  scientifically literate. As usual, though the AAAS addressed the fact that  certain groups in the U.S. were not being 'included' in the pursuit of  science literacy, such as women and racial minorities, in this their first  book they skipped over those of us with disabilities. Since this is a major  concern of mine and the area in which I do research, I was appalled to see  they neglected 'us' once again, especially as the AAAS has a separate  department dealing with the Disabled/Deaf.  In spite of this mistake, the  writing of this book has laid the groundwork for universities and colleges  as to what the teachers they train should know and be able to teach so that  our country can be more scientifically literate. With new information being  made available through newspapers and the Internet on a daily basis, it is  absolutely imperative that all adults regardless of race, gender, or  ability be able to glean the information they need from this outpouring of  information to make decisions requiring informed consent in health care,  decisions on employment (since health care is one of the top employers in  the U.S. today), and to teach their children. This book was the beginning,  but it isn't the end. More books have further elucidated what is required  for science literacy from both the AAAS and other science groups. This is  the place to start if you are an educator of any kind who wants their  students to become scientifically literate. Karen Sadler, Science  Education, University of Pittsburgh, klsst23@pitt.ed\n",
      "\n",
      "4\n",
      "When Tom returns W/ Huck & Jim from thier crazy escapeds in HUCKLEBERRY FINN, he's the center of fame. But when it wears off Tom begins to hanker for a new adventure. He found it, all right. Trapped in a runaway balloon w/ a mad sceintist who wants to commit a glorious suicide isn't MY idea of a leisurely summer vacation, but it gets pretty funny\n",
      "\n",
      "Printing negative reviews:\n",
      "0\n",
      "The book contained more profanity than I expected to read in a book by Rita Rudner.  I had expected more humor from a comedienne.  Too bad, because I really like her humor\n",
      "\n",
      "1\n",
      "I don't know why it won the National Book Award.  This book is very slow, &amp; very boring.  Where is the action?  I forced myself to finish it\n",
      "\n",
      "2\n",
      "The daughter of a prominent Boston doctor is dead, apparently from a botched abortion (which was illegal in the late 60's).  Dr. John Berry's friend, Art Lee, is in jail for the crime, which he says he didn't commit.  So, Dr. Berry sets out to prove his friend's innocence, and runs into cover-ups and lots of secrets.  But there are many doubts, such as was the girl really pregnant, and did Dr. Lee actually perform the surgery, and why is Dr. Berry so interested in finding the culprit?\n",
      "\n",
      "For Michael Crichton's first novel, it's not bad, but nowhere near as good as some later ones.  The plot is marginally interesting, but it was hard to keep characters straight and the dialog didn't sound very natural.  Dr. Berry (who just takes the whole work week off to investigate) talks more like a cheesy \"private eye\" than a doctor.  Also annoying was the use of footnotes and endnotes to explain various medical terms and concepts - nice to know but annoying to look up\n",
      "\n",
      "3\n",
      "I was very disapointed in the book.Basicly the writer took bits and pieces from books written by others,twisted their words and put his own spin on it.It repeats itself over and over being so repetative I had to put it down.There are good books out there written by people who were there.I suggest you take a look at those.I read many good one's but this book wasnt in that catagory\n",
      "\n",
      "4\n",
      "I think in retrospect I wasted my time on this one. It had a great premise that indulged me into buying this book but who knew dark days lied ahead of me. As I read through the last chapters trying to uncover the mystery, I kept on hoping that there would be something more to it, something more enigmatic, a brilliant twist but I was left with despair. My major problem with this novel was there were not enough, in fact hardly anybody whom the reader could suspect as the possible killer. And bringing out a totally new character at the very end to describe the proceedings only shows a lack of respect to the mind of the reader who had been guessing until now about various other possibilities. I will never touch this author's book again! A mantra for reading thrillers is in believing the hype and read the best of the best-Dan Brown\n",
      "\n"
     ]
    }
   ],
   "source": [
    "# Find the first five positive reviews\n",
    "positive_reviews = df.loc[df[\"Positive Review\"] == True, \"Review\"].head(5)\n",
    "# Print the first five positive reviews\n",
    "print(\"Printing positive reviews:\")\n",
    "for i, review in enumerate(positive_reviews): \n",
    "    print(i)\n",
    "    print(review)\n",
    "\n",
    "# Find the first five negative reviews\n",
    "print(\"Printing negative reviews:\")\n",
    "negative_reviews = df.loc[df[\"Positive Review\"] == False, \"Review\"].head(5)\n",
    "# Print the first five negative reviews\n",
    "for i, review in enumerate(negative_reviews): \n",
    "    print(i)\n",
    "    print(review)"
   ]
  },
  {
   "cell_type": "markdown",
   "metadata": {},
   "source": [
    "## Part 4: Define Your Project Plan\n",
    "\n",
    "Now that you understand your data, in the markdown cell below, define your plan to implement the remaining phases of the machine learning life cycle (data preparation, modeling, evaluation) to solve your ML problem. Answer the following questions:\n",
    "\n",
    "* Do you have a new feature list? If so, what are the features that you chose to keep and remove after inspecting the data? \n",
    "* Explain different data preparation techniques that you will use to prepare your data for modeling.\n",
    "* What is your model (or models)?\n",
    "* Describe your plan to train your model, analyze its performance and then improve the model. That is, describe your model building, validation and selection plan to produce a model that generalizes well to new data. "
   ]
  },
  {
   "cell_type": "markdown",
   "metadata": {},
   "source": [
    "1) The feature list is still the same (the book review itself). <br/>\n",
    "\n",
    "2) The data appears to be ready for modeling. I will split the data into training and testing sets using train_test_split. Instead of using a TF-IDF Vectorizer, I will use word embeddings to transform the text into dense numerical vectors that capture semantic meaning. I will preprocess the text by removing stopwords and applying lemmatization to clean and normalize the data. These embeddings will then be fed into a neural network model.\n",
    "\n",
    "3) My model is a neural network.\n",
    "\n",
    "4) I will build a neural network with a specified number of hidden layers and nodes. I will use the stochastic gradient descent optimizer in Keras. For the loss function, I will use binary cross-entropy since this is a binary classification problem. After compiling the model, I will fit it to the training data. During training, I will evaluate the model using metrics such as accuracy and precision. I will tune hyperparameters like the learning rate, number of epochs, number of layers, and nodes to help the model generalize well. Additionally, I may incorporate techniques such as dropout regularization to reduce overfitting."
   ]
  },
  {
   "cell_type": "markdown",
   "metadata": {},
   "source": [
    "## Part 5: Implement Your Project Plan\n",
    "\n",
    "<b>Task:</b> In the code cell below, import additional packages that you have used in this course that you will need to implement your project plan."
   ]
  },
  {
   "cell_type": "markdown",
   "metadata": {},
   "source": [
    "## Step 0: Download packages as needed"
   ]
  },
  {
   "cell_type": "code",
   "execution_count": null,
   "metadata": {},
   "outputs": [],
   "source": [
    "# Import all packages"
   ]
  },
  {
   "cell_type": "code",
   "execution_count": null,
   "metadata": {},
   "outputs": [],
   "source": [
    "# Step 1 - Clean the Data + Tokenizer\n",
    "# Step 2 - Split data into training and testing sets\n",
    "# Step 3 - Create Word Embeddings\n",
    "# Step 4 - Build Neural Network\n",
    "# Step 5 - Compile and Train the Model\n",
    "# Step 6 - Tune Hyperparameters\n",
    "# Step 7 - Evaluate final model on Test Data "
   ]
  },
  {
   "cell_type": "code",
   "execution_count": null,
   "metadata": {},
   "outputs": [],
   "source": [
    "pip install --upgrade nltk"
   ]
  },
  {
   "cell_type": "code",
   "execution_count": null,
   "metadata": {},
   "outputs": [],
   "source": [
    "!python -m nltk.downloader punkt"
   ]
  },
  {
   "cell_type": "code",
   "execution_count": null,
   "metadata": {},
   "outputs": [],
   "source": [
    "!pip install gensim"
   ]
  },
  {
   "cell_type": "markdown",
   "metadata": {},
   "source": [
    "<b>Task:</b> Use the rest of this notebook to carry out your project plan. \n",
    "\n",
    "You will:\n",
    "\n",
    "1. Prepare your data for your model.\n",
    "2. Fit your model to the training data and evaluate your model.\n",
    "3. Improve your model's performance by performing model selection and/or feature selection techniques to find best model for your problem.\n",
    "\n",
    "Add code cells below and populate the notebook with commentary, code, analyses, results, and figures as you see fit. "
   ]
  },
  {
   "cell_type": "markdown",
   "metadata": {},
   "source": [
    "## Step 1: Tokenize Text and Clean Data"
   ]
  },
  {
   "cell_type": "code",
   "execution_count": 5,
   "metadata": {},
   "outputs": [
    {
     "data": {
      "text/html": [
       "<div>\n",
       "<style scoped>\n",
       "    .dataframe tbody tr th:only-of-type {\n",
       "        vertical-align: middle;\n",
       "    }\n",
       "\n",
       "    .dataframe tbody tr th {\n",
       "        vertical-align: top;\n",
       "    }\n",
       "\n",
       "    .dataframe thead th {\n",
       "        text-align: right;\n",
       "    }\n",
       "</style>\n",
       "<table border=\"1\" class=\"dataframe\">\n",
       "  <thead>\n",
       "    <tr style=\"text-align: right;\">\n",
       "      <th></th>\n",
       "      <th>Review</th>\n",
       "      <th>Positive Review</th>\n",
       "      <th>Clean_Review</th>\n",
       "    </tr>\n",
       "  </thead>\n",
       "  <tbody>\n",
       "    <tr>\n",
       "      <th>0</th>\n",
       "      <td>This was perhaps the best of Johannes Steinhof...</td>\n",
       "      <td>True</td>\n",
       "      <td>[this, was, perhaps, the, best, of, johannes, ...</td>\n",
       "    </tr>\n",
       "    <tr>\n",
       "      <th>1</th>\n",
       "      <td>This very fascinating book is a story written ...</td>\n",
       "      <td>True</td>\n",
       "      <td>[this, very, fascinating, book, is, a, story, ...</td>\n",
       "    </tr>\n",
       "    <tr>\n",
       "      <th>2</th>\n",
       "      <td>The four tales in this collection are beautifu...</td>\n",
       "      <td>True</td>\n",
       "      <td>[the, four, tales, in, this, collection, are, ...</td>\n",
       "    </tr>\n",
       "    <tr>\n",
       "      <th>3</th>\n",
       "      <td>The book contained more profanity than I expec...</td>\n",
       "      <td>False</td>\n",
       "      <td>[the, book, contained, more, profanity, than, ...</td>\n",
       "    </tr>\n",
       "    <tr>\n",
       "      <th>4</th>\n",
       "      <td>We have now entered a second time of deep conc...</td>\n",
       "      <td>True</td>\n",
       "      <td>[we, have, now, entered, a, second, time, of, ...</td>\n",
       "    </tr>\n",
       "  </tbody>\n",
       "</table>\n",
       "</div>"
      ],
      "text/plain": [
       "                                              Review  Positive Review  \\\n",
       "0  This was perhaps the best of Johannes Steinhof...             True   \n",
       "1  This very fascinating book is a story written ...             True   \n",
       "2  The four tales in this collection are beautifu...             True   \n",
       "3  The book contained more profanity than I expec...            False   \n",
       "4  We have now entered a second time of deep conc...             True   \n",
       "\n",
       "                                        Clean_Review  \n",
       "0  [this, was, perhaps, the, best, of, johannes, ...  \n",
       "1  [this, very, fascinating, book, is, a, story, ...  \n",
       "2  [the, four, tales, in, this, collection, are, ...  \n",
       "3  [the, book, contained, more, profanity, than, ...  \n",
       "4  [we, have, now, entered, a, second, time, of, ...  "
      ]
     },
     "execution_count": 5,
     "metadata": {},
     "output_type": "execute_result"
    }
   ],
   "source": [
    "# Step 1a - Tokenize\n",
    "from nltk.tokenize import word_tokenize\n",
    "\n",
    "def tokenize(text):\n",
    "    words = word_tokenize(text.lower())\n",
    "    return words\n",
    "    \n",
    "df['Clean_Review'] = df['Review'].apply(tokenize)\n",
    "df.head()"
   ]
  },
  {
   "cell_type": "code",
   "execution_count": 6,
   "metadata": {},
   "outputs": [
    {
     "data": {
      "text/html": [
       "<div>\n",
       "<style scoped>\n",
       "    .dataframe tbody tr th:only-of-type {\n",
       "        vertical-align: middle;\n",
       "    }\n",
       "\n",
       "    .dataframe tbody tr th {\n",
       "        vertical-align: top;\n",
       "    }\n",
       "\n",
       "    .dataframe thead th {\n",
       "        text-align: right;\n",
       "    }\n",
       "</style>\n",
       "<table border=\"1\" class=\"dataframe\">\n",
       "  <thead>\n",
       "    <tr style=\"text-align: right;\">\n",
       "      <th></th>\n",
       "      <th>Review</th>\n",
       "      <th>Positive Review</th>\n",
       "      <th>Clean_Review</th>\n",
       "    </tr>\n",
       "  </thead>\n",
       "  <tbody>\n",
       "    <tr>\n",
       "      <th>0</th>\n",
       "      <td>This was perhaps the best of Johannes Steinhof...</td>\n",
       "      <td>True</td>\n",
       "      <td>[this, be, perhaps, the, best, of, johannes, s...</td>\n",
       "    </tr>\n",
       "    <tr>\n",
       "      <th>1</th>\n",
       "      <td>This very fascinating book is a story written ...</td>\n",
       "      <td>True</td>\n",
       "      <td>[this, very, fascinating, book, be, a, story, ...</td>\n",
       "    </tr>\n",
       "    <tr>\n",
       "      <th>2</th>\n",
       "      <td>The four tales in this collection are beautifu...</td>\n",
       "      <td>True</td>\n",
       "      <td>[the, four, tale, in, this, collection, be, be...</td>\n",
       "    </tr>\n",
       "    <tr>\n",
       "      <th>3</th>\n",
       "      <td>The book contained more profanity than I expec...</td>\n",
       "      <td>False</td>\n",
       "      <td>[the, book, contain, more, profanity, than, i,...</td>\n",
       "    </tr>\n",
       "    <tr>\n",
       "      <th>4</th>\n",
       "      <td>We have now entered a second time of deep conc...</td>\n",
       "      <td>True</td>\n",
       "      <td>[we, have, now, enter, a, second, time, of, de...</td>\n",
       "    </tr>\n",
       "  </tbody>\n",
       "</table>\n",
       "</div>"
      ],
      "text/plain": [
       "                                              Review  Positive Review  \\\n",
       "0  This was perhaps the best of Johannes Steinhof...             True   \n",
       "1  This very fascinating book is a story written ...             True   \n",
       "2  The four tales in this collection are beautifu...             True   \n",
       "3  The book contained more profanity than I expec...            False   \n",
       "4  We have now entered a second time of deep conc...             True   \n",
       "\n",
       "                                        Clean_Review  \n",
       "0  [this, be, perhaps, the, best, of, johannes, s...  \n",
       "1  [this, very, fascinating, book, be, a, story, ...  \n",
       "2  [the, four, tale, in, this, collection, be, be...  \n",
       "3  [the, book, contain, more, profanity, than, i,...  \n",
       "4  [we, have, now, enter, a, second, time, of, de...  "
      ]
     },
     "execution_count": 6,
     "metadata": {},
     "output_type": "execute_result"
    }
   ],
   "source": [
    "# Step 1b - Lemmatize with POS Tagging\n",
    "# Source: GeeksforGeeks\n",
    "from nltk import pos_tag\n",
    "from nltk.stem import WordNetLemmatizer\n",
    "\n",
    "lemmatizer = WordNetLemmatizer()\n",
    "\n",
    "def get_wordnet_pos(tag):\n",
    "    if tag.startswith('J'):  \n",
    "        return 'a'\n",
    "    elif tag.startswith('V'):  \n",
    "        return 'v'\n",
    "    elif tag.startswith('N'):  \n",
    "        return 'n'\n",
    "    elif tag.startswith('R'):  \n",
    "        return 'r'\n",
    "    else:\n",
    "        return 'n' \n",
    "\n",
    "def lemmatize_words(tokens):\n",
    "    tagged = pos_tag(tokens) # add POS tags to each word\n",
    "    lemmatized_words = [lemmatizer.lemmatize(word, get_wordnet_pos(tag)) for word, tag in tagged]\n",
    "    return lemmatized_words\n",
    "\n",
    "df[\"Clean_Review\"] = df[\"Clean_Review\"].apply(lemmatize_words)\n",
    "df.head()"
   ]
  },
  {
   "cell_type": "markdown",
   "metadata": {},
   "source": [
    "## Step 2: Create Testing and Training Sets"
   ]
  },
  {
   "cell_type": "code",
   "execution_count": 7,
   "metadata": {},
   "outputs": [
    {
     "data": {
      "text/plain": [
       "500     [there, be, a, reason, this, book, have, sell,...\n",
       "1047    [there, be, one, thing, that, every, cookbook,...\n",
       "1667    [be, an, engineer, in, the, aerospace, industr...\n",
       "1646    [i, have, no, idea, how, this, book, have, rec...\n",
       "284     [it, be, almost, like, dream, come, true, when...\n",
       "Name: Clean_Review, dtype: object"
      ]
     },
     "execution_count": 7,
     "metadata": {},
     "output_type": "execute_result"
    }
   ],
   "source": [
    "# Step 2 - Create Testing and Training Sets\n",
    "from sklearn.model_selection import train_test_split\n",
    "from sklearn.feature_extraction.text import TfidfVectorizer\n",
    "\n",
    "y = df['Positive Review']\n",
    "X = df['Clean_Review']\n",
    "\n",
    "X_train, X_test, y_train, y_test = train_test_split(X, y, train_size=0.75, random_state=1234)\n",
    "X_train.head()"
   ]
  },
  {
   "cell_type": "markdown",
   "metadata": {},
   "source": [
    "## Step 3: Create Word Embeddings"
   ]
  },
  {
   "cell_type": "code",
   "execution_count": 9,
   "metadata": {},
   "outputs": [
    {
     "name": "stdout",
     "output_type": "stream",
     "text": [
      "Begin\n",
      "End\n"
     ]
    }
   ],
   "source": [
    "print(\"Begin\")\n",
    "word2vec_model = gensim.models.Word2Vec(X_train,\n",
    "                                   vector_size=6000,\n",
    "                                   window=5,\n",
    "                                   min_count=1,\n",
    "                                       epochs=150)\n",
    "# I tuned the epochs and vector size to increase accuracy\n",
    "\n",
    "\n",
    "print(\"End\")"
   ]
  },
  {
   "cell_type": "code",
   "execution_count": 10,
   "metadata": {},
   "outputs": [
    {
     "name": "stdout",
     "output_type": "stream",
     "text": [
      "Begin transforming X_train\n",
      "Finish transforming X_train\n",
      "Begin transforming X_test\n",
      "Finish transforming X_test\n"
     ]
    }
   ],
   "source": [
    "words = set(word2vec_model.wv.index_to_key)\n",
    "\n",
    "print('Begin transforming X_train')\n",
    "X_train_word_embeddings = np.array([np.array([word2vec_model.wv[word] for word in words if word in training_example])\n",
    "                        for training_example in X_train], dtype=object)\n",
    "print('Finish transforming X_train')\n",
    "\n",
    "print('Begin transforming X_test')\n",
    "X_test_word_embeddings = np.array([np.array([word2vec_model.wv[word] for word in words if word in training_example])\n",
    "                        for training_example in X_test], dtype=object)\n",
    "print('Finish transforming X_test')"
   ]
  },
  {
   "cell_type": "code",
   "execution_count": 11,
   "metadata": {},
   "outputs": [],
   "source": [
    "X_train_feature_vector = []\n",
    "for w in X_train_word_embeddings:\n",
    "    if w.size:\n",
    "        X_train_feature_vector.append(w.mean(axis=0))\n",
    "    else:\n",
    "        X_train_feature_vector.append(np.zeros(100, dtype=float))\n",
    "        \n",
    "X_test_feature_vector = []\n",
    "for w in X_test_word_embeddings:\n",
    "    if w.size:\n",
    "        X_test_feature_vector.append(w.mean(axis=0))\n",
    "    else:\n",
    "        X_test_feature_vector.append(np.zeros(100, dtype=float))"
   ]
  },
  {
   "cell_type": "markdown",
   "metadata": {},
   "source": [
    "## Step 4: Build Neural Network Model + Step 5 Compile the Model"
   ]
  },
  {
   "cell_type": "code",
   "execution_count": 38,
   "metadata": {},
   "outputs": [
    {
     "name": "stdout",
     "output_type": "stream",
     "text": [
      "Model: \"sequential_6\"\n",
      "_________________________________________________________________\n",
      "Layer (type)                 Output Shape              Param #   \n",
      "=================================================================\n",
      "dense_24 (Dense)             (None, 64)                384064    \n",
      "_________________________________________________________________\n",
      "dropout_18 (Dropout)         (None, 64)                0         \n",
      "_________________________________________________________________\n",
      "dense_25 (Dense)             (None, 32)                2080      \n",
      "_________________________________________________________________\n",
      "dropout_19 (Dropout)         (None, 32)                0         \n",
      "_________________________________________________________________\n",
      "dense_26 (Dense)             (None, 16)                528       \n",
      "_________________________________________________________________\n",
      "dropout_20 (Dropout)         (None, 16)                0         \n",
      "_________________________________________________________________\n",
      "dense_27 (Dense)             (None, 1)                 17        \n",
      "=================================================================\n",
      "Total params: 386,689\n",
      "Trainable params: 386,689\n",
      "Non-trainable params: 0\n",
      "_________________________________________________________________\n"
     ]
    }
   ],
   "source": [
    "# 1. Create model object\n",
    "vocabulary_size = 6000\n",
    "nn_model = keras.Sequential()\n",
    "\n",
    "X_train_np = np.array(X_train_feature_vector)\n",
    "X_test_np = np.array(X_test_feature_vector)\n",
    "\n",
    "# 2. Create the input layer and add it to the model object: \n",
    "input_layer = keras.layers.InputLayer(input_shape=(vocabulary_size,))\n",
    "nn_model.add(input_layer)\n",
    "\n",
    "\n",
    "# 3. Create the first hidden layer and add it to the model object:\n",
    "hidden_layer_1 = keras.layers.Dense(units=64, activation='relu')\n",
    "nn_model.add(hidden_layer_1)\n",
    "nn_model.add(Dropout(0.4))\n",
    "\n",
    "# 4. Create the second layer and add it to the model object:\n",
    "hidden_layer_2 = keras.layers.Dense(units=32, activation='relu')\n",
    "nn_model.add(hidden_layer_2)\n",
    "nn_model.add(Dropout(0.4))\n",
    "\n",
    "# 4. Create the third layer and add it to the model object:\n",
    "hidden_layer_3 = keras.layers.Dense(units=16, activation='relu')\n",
    "nn_model.add(hidden_layer_3)\n",
    "nn_model.add(Dropout(0.4))\n",
    "\n",
    "# 6. Create the output layer and add it to the model object:\n",
    "output_layer = keras.layers.Dense(units=1, activation='sigmoid')\n",
    "nn_model.add(output_layer)\n",
    "\n",
    "\n",
    "# Print summary of neural network model structure\n",
    "nn_model.summary()\n",
    "\n",
    "\n",
    "loss_fn = keras.losses.BinaryCrossentropy(from_logits=False)\n",
    "adam_optimizer = Adam(learning_rate=0.001)\n",
    "nn_model.compile(optimizer=adam_optimizer, loss=loss_fn, metrics=['accuracy'])"
   ]
  },
  {
   "cell_type": "code",
   "execution_count": 14,
   "metadata": {},
   "outputs": [],
   "source": [
    "class ProgBarLoggerNEpochs(keras.callbacks.Callback):\n",
    "    \n",
    "    def __init__(self, num_epochs: int, every_n: int = 50):\n",
    "        self.num_epochs = num_epochs\n",
    "        self.every_n = every_n\n",
    "    \n",
    "    def on_epoch_end(self, epoch, logs=None):\n",
    "        if (epoch + 1) % self.every_n == 0:\n",
    "            s = 'Epoch [{}/ {}]'.format(epoch + 1, self.num_epochs)\n",
    "            logs_s = ['{}: {:.4f}'.format(k.capitalize(), v)\n",
    "                      for k, v in logs.items()]\n",
    "            s_list = [s] + logs_s\n",
    "            print(', '.join(s_list))\n"
   ]
  },
  {
   "cell_type": "code",
   "execution_count": 40,
   "metadata": {},
   "outputs": [
    {
     "name": "stdout",
     "output_type": "stream",
     "text": [
      "Epoch [5/ 100], Loss: 0.6315, Accuracy: 0.6577, Val_loss: 0.6041, Val_accuracy: 0.7196\n",
      "Epoch [10/ 100], Loss: 0.5374, Accuracy: 0.7439, Val_loss: 0.5329, Val_accuracy: 0.7399\n",
      "Epoch [15/ 100], Loss: 0.5097, Accuracy: 0.7557, Val_loss: 0.4866, Val_accuracy: 0.7736\n",
      "Epoch [20/ 100], Loss: 0.4483, Accuracy: 0.7929, Val_loss: 0.5018, Val_accuracy: 0.7568\n",
      "Epoch [25/ 100], Loss: 0.4393, Accuracy: 0.7844, Val_loss: 0.4888, Val_accuracy: 0.7466\n",
      "Epoch [30/ 100], Loss: 0.4433, Accuracy: 0.7768, Val_loss: 0.4788, Val_accuracy: 0.7804\n",
      "Epoch [35/ 100], Loss: 0.3962, Accuracy: 0.8115, Val_loss: 0.5165, Val_accuracy: 0.7399\n",
      "Epoch [40/ 100], Loss: 0.3973, Accuracy: 0.7895, Val_loss: 0.5430, Val_accuracy: 0.7703\n",
      "Epoch [45/ 100], Loss: 0.3624, Accuracy: 0.8216, Val_loss: 0.5492, Val_accuracy: 0.7770\n",
      "Epoch [50/ 100], Loss: 0.3683, Accuracy: 0.7988, Val_loss: 0.5663, Val_accuracy: 0.7669\n",
      "Epoch [55/ 100], Loss: 0.3332, Accuracy: 0.8284, Val_loss: 0.5427, Val_accuracy: 0.7601\n",
      "Epoch [60/ 100], Loss: 0.3182, Accuracy: 0.8216, Val_loss: 0.5959, Val_accuracy: 0.7703\n",
      "Epoch [65/ 100], Loss: 0.3285, Accuracy: 0.8335, Val_loss: 0.6322, Val_accuracy: 0.7669\n",
      "Epoch [70/ 100], Loss: 0.3745, Accuracy: 0.7861, Val_loss: 0.6325, Val_accuracy: 0.7365\n",
      "Epoch [75/ 100], Loss: 0.3535, Accuracy: 0.8022, Val_loss: 0.5870, Val_accuracy: 0.7500\n",
      "Epoch [80/ 100], Loss: 0.2949, Accuracy: 0.8385, Val_loss: 0.6641, Val_accuracy: 0.7703\n",
      "Epoch [85/ 100], Loss: 0.3573, Accuracy: 0.7921, Val_loss: 0.6746, Val_accuracy: 0.7331\n",
      "Epoch [90/ 100], Loss: 0.2592, Accuracy: 0.8605, Val_loss: 0.7964, Val_accuracy: 0.7770\n",
      "Epoch [95/ 100], Loss: 0.3024, Accuracy: 0.8318, Val_loss: 0.7823, Val_accuracy: 0.7365\n",
      "Epoch [100/ 100], Loss: 0.3412, Accuracy: 0.7954, Val_loss: 0.7375, Val_accuracy: 0.7500\n",
      "Elapsed time: 6.67s\n"
     ]
    }
   ],
   "source": [
    "t0 = time.time() # start time\n",
    "\n",
    "num_epochs = 100 # epochs\n",
    "\n",
    "history = nn_model.fit(\n",
    "    X_train_np,\n",
    "    y_train,\n",
    "    epochs = num_epochs,\n",
    "    verbose=0,\n",
    "    callbacks=[ProgBarLoggerNEpochs(num_epochs, every_n=5)],\n",
    "    validation_split = 0.2,\n",
    ")\n",
    "\n",
    "t1 = time.time() # stop time\n",
    "\n",
    "print('Elapsed time: %.2fs' % (t1-t0))"
   ]
  },
  {
   "cell_type": "code",
   "execution_count": 41,
   "metadata": {},
   "outputs": [
    {
     "name": "stdout",
     "output_type": "stream",
     "text": [
      "Training accuracy: 0.7954353094100952\n",
      "Validation accuracy: 0.75\n"
     ]
    }
   ],
   "source": [
    "# print accuracy\n",
    "print(\"Training accuracy:\", history.history['accuracy'][-1])\n",
    "print(\"Validation accuracy:\", history.history['val_accuracy'][-1])"
   ]
  },
  {
   "cell_type": "code",
   "execution_count": 49,
   "metadata": {},
   "outputs": [
    {
     "data": {
      "image/png": "[encoded data removed]",
      "text/plain": [
       "<Figure size 640x480 with 1 Axes>"
      ]
     },
     "metadata": {},
     "output_type": "display_data"
    },
    {
     "data": {
      "image/png": "[encoded data removed]",
      "text/plain": [
       "<Figure size 640x480 with 1 Axes>"
      ]
     },
     "metadata": {},
     "output_type": "display_data"
    }
   ],
   "source": [
    "# Plot training and validation loss\n",
    "plt.plot(range(1, num_epochs + 1), history.history['loss'], label='Training Loss')\n",
    "plt.plot(range(1, num_epochs + 1), history.history['val_loss'], label='Validation Loss')\n",
    "\n",
    "plt.xlabel('Epoch')\n",
    "plt.ylabel('Loss')\n",
    "plt.legend()\n",
    "plt.show()\n",
    "\n",
    "\n",
    "# Plot training and validation accuracy\n",
    "plt.plot(range(1, num_epochs + 1), history.history['accuracy'], label='Training Accuracy')\n",
    "plt.plot(range(1, num_epochs + 1), history.history['val_accuracy'], label='Validation Accuracy')\n",
    "\n",
    "plt.xlabel('Epoch')\n",
    "plt.ylabel('Accuracy')\n",
    "plt.legend()\n",
    "plt.show()"
   ]
  },
  {
   "cell_type": "markdown",
   "metadata": {},
   "source": [
    "## Step 6: Tune Hyperparameters: Some Observations I Made\n",
    "On my first round of evaluating the model. I had an accuracy of nearly 50%, which is the same as guessing. Thus, I had to empirically test various things to find the source of the underfitting.\n",
    "\n",
    "As I was tuning the model, I tested out various things:\n",
    "- When I removed the stopwords, the accuracy of the model went down dramatically. I assume this is because it removes important words that help predict sentiment such as not, no, none, etc. Thus, I only stuck to lemmatization.\n",
    "- Vector size of the word2vec_model => I initally had it at 100 and that was not sufficient, so I opted for 6000 after testing a few parameters.\n",
    "- Tested between adding dropout layers vs. l2 regularization vs. both.\n",
    "- Changed the SGD optimizer for Adam optimizer for quicker convergence."
   ]
  },
  {
   "cell_type": "markdown",
   "metadata": {},
   "source": [
    "## Step 7: Evaluate Final Model on Test Data "
   ]
  },
  {
   "cell_type": "code",
   "execution_count": 42,
   "metadata": {},
   "outputs": [
    {
     "name": "stdout",
     "output_type": "stream",
     "text": [
      "16/16 [==============================] - 0s 778us/step - loss: 0.5973 - accuracy: 0.7429\n",
      "Loss:  0.5973259806632996 Accuracy:  0.7429149746894836\n"
     ]
    }
   ],
   "source": [
    "loss, accuracy = nn_model.evaluate(X_test_np, y_test)\n",
    "\n",
    "print('Loss: ', str(loss) , 'Accuracy: ', str(accuracy))"
   ]
  },
  {
   "cell_type": "code",
   "execution_count": 48,
   "metadata": {},
   "outputs": [
    {
     "name": "stdout",
     "output_type": "stream",
     "text": [
      "Predictions for the first 50 examples:\n",
      "[0.9999815] True\n",
      "[1.] True\n",
      "[0.99963593] True\n",
      "[0.9376109] True\n",
      "[0.99892026] True\n",
      "[0.52866155] True\n",
      "[0.8909583] True\n",
      "[0.9996191] True\n",
      "[0.99998486] True\n",
      "[0.70889956] False\n",
      "[0.9635382] True\n",
      "[0.9839773] True\n",
      "[1.] True\n",
      "[0.9999953] False\n",
      "[0.980981] True\n",
      "[0.6564728] True\n",
      "[0.59309167] False\n",
      "[0.9736747] True\n",
      "[0.84775805] True\n",
      "[0.9057219] True\n"
     ]
    }
   ],
   "source": [
    "# Make predictions on the test set\n",
    "probability_predictions = nn_model.predict(X_test_np)\n",
    "\n",
    "print(\"Predictions for the first 50 examples:\")\n",
    "for i in range(50):\n",
    "    if(probability_predictions[i][0] > 0.5):\n",
    "        print(probability_predictions[i], y_test.to_numpy()[i])\n",
    "    "
   ]
  },
  {
   "cell_type": "markdown",
   "metadata": {},
   "source": [
    "## Next Steps + Final Thoughts"
   ]
  },
  {
   "cell_type": "markdown",
   "metadata": {},
   "source": [
    "Some next steps could include using already established word embeddings that may work better than mine, including GloVe. In addition, I can explore other optimizers than Adam. \n",
    "\n",
    "I hope to further my knowledge in the various tuning techniques to ensure the best balance between underfitting and overfitting. This project helped me understand the iterative and time-intensive nature of data cleaning, model training, and model tuning."
   ]
  }
 ],
 "metadata": {
  "kernelspec": {
   "display_name": "Python 3 (ipykernel)",
   "language": "python",
   "name": "python3"
  },
  "language_info": {
   "codemirror_mode": {
    "name": "ipython",
    "version": 3
   },
   "file_extension": ".py",
   "mimetype": "text/x-python",
   "name": "python",
   "nbconvert_exporter": "python",
   "pygments_lexer": "ipython3",
   "version": "3.9.19"
  },
  "toc": {
   "base_numbering": 1,
   "nav_menu": {},
   "number_sections": false,
   "sideBar": true,
   "skip_h1_title": false,
   "title_cell": "Table of Contents",
   "title_sidebar": "Contents",
   "toc_cell": false,
   "toc_position": {},
   "toc_section_display": true,
   "toc_window_display": false
  },
  "varInspector": {
   "cols": {
    "lenName": 16,
    "lenType": 16,
    "lenVar": 40
   },
   "kernels_config": {
    "python": {
     "delete_cmd_postfix": "",
     "delete_cmd_prefix": "del ",
     "library": "var_list.py",
     "varRefreshCmd": "print(var_dic_list())"
    },
    "r": {
     "delete_cmd_postfix": ") ",
     "delete_cmd_prefix": "rm(",
     "library": "var_list.r",
     "varRefreshCmd": "cat(var_dic_list()) "
    }
   },
   "types_to_exclude": [
    "module",
    "function",
    "builtin_function_or_method",
    "instance",
    "_Feature"
   ],
   "window_display": false
  }
 },
 "nbformat": 4,
 "nbformat_minor": 4
}
